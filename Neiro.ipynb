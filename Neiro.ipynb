{
 "cells": [
  {
   "cell_type": "code",
   "execution_count": 1,
   "metadata": {},
   "outputs": [
    {
     "ename": "SyntaxError",
     "evalue": "unexpected EOF while parsing (<ipython-input-1-be610e0020b3>, line 3)",
     "output_type": "error",
     "traceback": [
      "\u001b[1;36m  File \u001b[1;32m\"<ipython-input-1-be610e0020b3>\"\u001b[1;36m, line \u001b[1;32m3\u001b[0m\n\u001b[1;33m    def __init__():\u001b[0m\n\u001b[1;37m                   ^\u001b[0m\n\u001b[1;31mSyntaxError\u001b[0m\u001b[1;31m:\u001b[0m unexpected EOF while parsing\n"
     ]
    }
   ],
   "source": [
    "class Neiro_Web:\n",
    "    data = [] #вес нейронов\n",
    "    type_back = ''#вид действий над нейросетью вов ремя возвращения обратной ошибки\n",
    "    iterations = 0 #количество итераций\n",
    "    \n",
    "    history = []\n",
    "    \n",
    "    file = ''\n",
    "    \n",
    "    def __init__(self):\n",
    "        self.file = open('history.txt','a')#открываем файл для дозаписи\n",
    "    \n",
    "    def work(self):\n",
    "        pass\n",
    "    \n",
    "    def teach(self):\n",
    "        \n",
    "        self.work()\n",
    "        \n",
    "        if type_back == '':\n",
    "        \n",
    "        elif type_back == '':\n",
    "            \n",
    "        else:\n",
    "            print('Ошибка!! Такого метода не существует!')\n",
    "            \n",
    "    def save_history(self):"
   ]
  },
  {
   "cell_type": "code",
   "execution_count": 5,
   "metadata": {},
   "outputs": [],
   "source": [
    "f = open('1.txt','a')\n",
    "f.write('a')\n",
    "f.close()"
   ]
  },
  {
   "cell_type": "code",
   "execution_count": 8,
   "metadata": {},
   "outputs": [
    {
     "name": "stdout",
     "output_type": "stream",
     "text": [
      "0.541\n",
      "0.5139\n",
      "0.9132\n",
      "0.8661\n",
      "0.922\n",
      "0.9867\n",
      "0.1596\n",
      "0.1794\n",
      "0.0807\n",
      "0.8759\n",
      "0.2935\n",
      "0.0027\n",
      "0.5491\n",
      "0.4097\n",
      "0.4012\n",
      "0.6753\n",
      "0.2713\n",
      "0.496\n",
      "0.1117\n",
      "0.0471\n",
      "0.1183\n"
     ]
    }
   ],
   "source": [
    "import random\n",
    "for x in range(21):\n",
    "    print(round(random.random(),4))"
   ]
  },
  {
   "cell_type": "code",
   "execution_count": null,
   "metadata": {},
   "outputs": [],
   "source": []
  }
 ],
 "metadata": {
  "kernelspec": {
   "display_name": "Python 3",
   "language": "python",
   "name": "python3"
  },
  "language_info": {
   "codemirror_mode": {
    "name": "ipython",
    "version": 3
   },
   "file_extension": ".py",
   "mimetype": "text/x-python",
   "name": "python",
   "nbconvert_exporter": "python",
   "pygments_lexer": "ipython3",
   "version": "3.6.5"
  }
 },
 "nbformat": 4,
 "nbformat_minor": 2
}
